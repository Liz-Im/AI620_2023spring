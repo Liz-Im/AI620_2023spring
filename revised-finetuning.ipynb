{
 "cells": [
  {
   "cell_type": "code",
   "execution_count": 1,
   "id": "37c8646e-cf3b-4c23-ad37-12c1b8b6d656",
   "metadata": {},
   "outputs": [
    {
     "data": {
      "text/plain": [
       "'cuda'"
      ]
     },
     "execution_count": 1,
     "metadata": {},
     "output_type": "execute_result"
    }
   ],
   "source": [
    "import transformers\n",
    "import textwrap\n",
    "from transformers import AutoModelForCausalLM, AutoTokenizer\n",
    "import os\n",
    "import sys\n",
    "from typing import List\n",
    "\n",
    "import fire\n",
    "import torch\n",
    "import torch.nn as nn\n",
    "from datasets import load_dataset\n",
    "import pandas as pd\n",
    "\n",
    "from pylab import rcParams\n",
    "import json\n",
    "\n",
    "device = \"cuda\" if torch.cuda.is_available() else \"cpu\"\n",
    "device"
   ]
  },
  {
   "cell_type": "code",
   "execution_count": 2,
   "id": "6f94403a-e851-41a2-90e5-0044feaf5e24",
   "metadata": {},
   "outputs": [
    {
     "name": "stdout",
     "output_type": "stream",
     "text": [
      "\n",
      "===================================BUG REPORT===================================\n",
      "Welcome to bitsandbytes. For bug reports, please run\n",
      "\n",
      "python -m bitsandbytes\n",
      "\n",
      " and submit this information together with your error trace to: https://github.com/TimDettmers/bitsandbytes/issues\n",
      "================================================================================\n",
      "bin /home/proj_aki/anaconda3/envs/AI620/lib/python3.10/site-packages/bitsandbytes/libbitsandbytes_cuda117.so\n",
      "CUDA SETUP: CUDA runtime path found: /home/proj_aki/anaconda3/envs/AI620/lib/libcudart.so.11.0\n",
      "CUDA SETUP: Highest compute capability among GPUs detected: 7.5\n",
      "CUDA SETUP: Detected CUDA version 117\n",
      "CUDA SETUP: Loading binary /home/proj_aki/anaconda3/envs/AI620/lib/python3.10/site-packages/bitsandbytes/libbitsandbytes_cuda117.so...\n"
     ]
    }
   ],
   "source": [
    "from peft import (\n",
    "    LoraConfig,\n",
    "    get_peft_model,\n",
    "    get_peft_model_state_dict,\n",
    "    prepare_model_for_int8_training,\n",
    ")"
   ]
  },
  {
   "cell_type": "code",
   "execution_count": 3,
   "id": "2998971b-e660-49b5-b314-601b1cea934c",
   "metadata": {},
   "outputs": [
    {
     "data": {
      "application/vnd.jupyter.widget-view+json": {
       "model_id": "637e4008bb9c46f39b52364ec016f5f2",
       "version_major": 2,
       "version_minor": 0
      },
      "text/plain": [
       "Loading checkpoint shards:   0%|          | 0/2 [00:00<?, ?it/s]"
      ]
     },
     "metadata": {},
     "output_type": "display_data"
    }
   ],
   "source": [
    "model = AutoModelForCausalLM.from_pretrained(\"beomi/KoAlpaca-Polyglot\",\n",
    "                                             torch_dtype=torch.float16,\n",
    "                                             low_cpu_mem_usage=True,\n",
    "                                             device_map='auto',\n",
    "                                             load_in_8bit=True)\n",
    "\n",
    "tokenizer = AutoTokenizer.from_pretrained(\"EleutherAI/polyglot-ko-5.8b\")\n",
    "\n",
    "tokenizer.pad_token_id = (\n",
    "    0  # unk. we want this to be different from the eos token\n",
    ")\n",
    "tokenizer.padding_side = \"left\"\n",
    "\n",
    "model.config.max_length = 1024\n",
    "model.config.pad_token_id = 0"
   ]
  },
  {
   "cell_type": "code",
   "execution_count": 4,
   "id": "eabd6888-894a-4ff0-ab54-1f86733f946b",
   "metadata": {},
   "outputs": [
    {
     "name": "stdout",
     "output_type": "stream",
     "text": [
      "trainable params: 3670016 || all params: 5888729088 || trainable%: 0.06232271760435925\n"
     ]
    }
   ],
   "source": [
    "model = prepare_model_for_int8_training(model)\n",
    "config = LoraConfig(\n",
    "    r=8,\n",
    "    lora_alpha=16,\n",
    "    target_modules=[\"query_key_value\"],\n",
    "    lora_dropout=0.05,\n",
    "    bias=\"none\",\n",
    "    task_type=\"CAUSAL_LM\",\n",
    ")\n",
    "model = get_peft_model(model, config)\n",
    "model.print_trainable_parameters()"
   ]
  },
  {
   "cell_type": "code",
   "execution_count": 5,
   "id": "7c6e5146-b1be-45dd-9166-c9dba5b914f7",
   "metadata": {},
   "outputs": [
    {
     "name": "stdout",
     "output_type": "stream",
     "text": [
      "Downloading and preparing dataset json/default to /home/proj_aki/.cache/huggingface/datasets/json/default-2750e3d35e9691e6/0.0.0/0f7e3662623656454fcd2b650f34e886a7db4b9104504885bd462096cc7a9f51...\n"
     ]
    },
    {
     "data": {
      "application/vnd.jupyter.widget-view+json": {
       "model_id": "a9dc85fa08994ec99c2e2351b3208da5",
       "version_major": 2,
       "version_minor": 0
      },
      "text/plain": [
       "Downloading data files:   0%|          | 0/1 [00:00<?, ?it/s]"
      ]
     },
     "metadata": {},
     "output_type": "display_data"
    },
    {
     "data": {
      "application/vnd.jupyter.widget-view+json": {
       "model_id": "c076a352f50945e18ac4d5620d296faf",
       "version_major": 2,
       "version_minor": 0
      },
      "text/plain": [
       "Extracting data files:   0%|          | 0/1 [00:00<?, ?it/s]"
      ]
     },
     "metadata": {},
     "output_type": "display_data"
    },
    {
     "data": {
      "application/vnd.jupyter.widget-view+json": {
       "model_id": "",
       "version_major": 2,
       "version_minor": 0
      },
      "text/plain": [
       "Generating train split: 0 examples [00:00, ? examples/s]"
      ]
     },
     "metadata": {},
     "output_type": "display_data"
    },
    {
     "name": "stdout",
     "output_type": "stream",
     "text": [
      "Dataset json downloaded and prepared to /home/proj_aki/.cache/huggingface/datasets/json/default-2750e3d35e9691e6/0.0.0/0f7e3662623656454fcd2b650f34e886a7db4b9104504885bd462096cc7a9f51. Subsequent calls will reuse this data.\n"
     ]
    },
    {
     "data": {
      "application/vnd.jupyter.widget-view+json": {
       "model_id": "cd8d9780c9484cfaa58495f0312b3d8d",
       "version_major": 2,
       "version_minor": 0
      },
      "text/plain": [
       "  0%|          | 0/1 [00:00<?, ?it/s]"
      ]
     },
     "metadata": {},
     "output_type": "display_data"
    }
   ],
   "source": [
    "data = load_dataset(\"json\", data_files=\"Ko_En_QA_dataset.json\")"
   ]
  },
  {
   "cell_type": "code",
   "execution_count": 6,
   "id": "87c377f2",
   "metadata": {},
   "outputs": [],
   "source": [
    "CUTOFF_LEN = 256"
   ]
  },
  {
   "cell_type": "code",
   "execution_count": 7,
   "id": "98bb4e46",
   "metadata": {},
   "outputs": [],
   "source": [
    "def generate_prompt(data_point):    \n",
    "    return f\"\"\"Below is an instruction that describes a task, paired with an input that provides further context.\\n아래는 작업을 설명하는 명령어와 추가적 맥락을 제공하는 입력이 짝을 이루는 예제입니다.\\n\\nWrite a response that appropriately completes the request.\\n요청을 적절히 완료하는 응답을 작성하세요.\\n\\n\n",
    "### Instruction:\n",
    "{data_point[\"instruction\"]}\n",
    "### Input:\n",
    "{data_point[\"input\"]}\n",
    "### Response:\n",
    "{data_point[\"output\"]}\"\"\""
   ]
  },
  {
   "cell_type": "code",
   "execution_count": 8,
   "id": "f6ed3cd6",
   "metadata": {},
   "outputs": [],
   "source": [
    "def tokenize(prompt, add_eos_token=True):\n",
    "    # there's probably a way to do this with the tokenizer settings\n",
    "    # but again, gotta move fast\n",
    "    result = tokenizer(\n",
    "        prompt,\n",
    "        truncation=True,\n",
    "        max_length=CUTOFF_LEN,\n",
    "        padding=False,\n",
    "        return_tensors=None,\n",
    "    )\n",
    "    if (\n",
    "        result[\"input_ids\"][-1] != tokenizer.eos_token_id\n",
    "        and len(result[\"input_ids\"]) < CUTOFF_LEN\n",
    "        and add_eos_token\n",
    "    ):\n",
    "        result[\"input_ids\"].append(tokenizer.eos_token_id)\n",
    "        result[\"attention_mask\"].append(1)\n",
    "\n",
    "    result[\"labels\"] = result[\"input_ids\"].copy()\n",
    "\n",
    "    return result\n",
    "\n",
    "def generate_and_tokenize_prompt(data_point):\n",
    "    full_prompt = generate_prompt(data_point)\n",
    "    tokenized_full_prompt = tokenize(full_prompt)\n",
    "    return tokenized_full_prompt"
   ]
  },
  {
   "cell_type": "code",
   "execution_count": 9,
   "id": "493af22a",
   "metadata": {},
   "outputs": [
    {
     "data": {
      "application/vnd.jupyter.widget-view+json": {
       "model_id": "",
       "version_major": 2,
       "version_minor": 0
      },
      "text/plain": [
       "Map:   0%|          | 0/3743 [00:00<?, ? examples/s]"
      ]
     },
     "metadata": {},
     "output_type": "display_data"
    },
    {
     "data": {
      "application/vnd.jupyter.widget-view+json": {
       "model_id": "",
       "version_major": 2,
       "version_minor": 0
      },
      "text/plain": [
       "Map:   0%|          | 0/415 [00:00<?, ? examples/s]"
      ]
     },
     "metadata": {},
     "output_type": "display_data"
    }
   ],
   "source": [
    "train_val = data[\"train\"].train_test_split(\n",
    "    test_size=int((data['train'].num_rows)*0.1), shuffle=True, seed=42\n",
    ")\n",
    "train_data = (\n",
    "    train_val[\"train\"].shuffle().map(generate_and_tokenize_prompt)\n",
    ")\n",
    "val_data = (\n",
    "    train_val[\"test\"].shuffle().map(generate_and_tokenize_prompt)\n",
    ")"
   ]
  },
  {
   "cell_type": "code",
   "execution_count": 10,
   "id": "3925b5d1",
   "metadata": {},
   "outputs": [],
   "source": [
    "LORA_R = 8\n",
    "LORA_ALPHA = 16\n",
    "LORA_DROPOUT= 0.05\n",
    "LORA_TARGET_MODULES = [\n",
    "    \"q_proj\",\n",
    "    \"v_proj\",\n",
    "]\n",
    "\n",
    "BATCH_SIZE = 32\n",
    "MICRO_BATCH_SIZE = 4\n",
    "GRADIENT_ACCUMULATION_STEPS = BATCH_SIZE // MICRO_BATCH_SIZE\n",
    "LEARNING_RATE = 3e-4\n",
    "TRAIN_STEPS = 300\n",
    "OUTPUT_DIR = \"experiments\""
   ]
  },
  {
   "cell_type": "code",
   "execution_count": 12,
   "id": "816cac96",
   "metadata": {},
   "outputs": [
    {
     "name": "stdout",
     "output_type": "stream",
     "text": [
      "trainable params: 3670016 || all params: 5888729088 || trainable%: 0.06232271760435925\n"
     ]
    }
   ],
   "source": [
    "model = prepare_model_for_int8_training(model)\n",
    "config = LoraConfig(\n",
    "    r=LORA_R,\n",
    "    lora_alpha=LORA_ALPHA,\n",
    "    #target_modules=LORA_TARGET_MODULES,\n",
    "    lora_dropout=LORA_DROPOUT,\n",
    "    bias=\"none\",\n",
    "    task_type=\"CAUSAL_LM\",\n",
    ")\n",
    "model = get_peft_model(model, config)\n",
    "model.print_trainable_parameters()"
   ]
  },
  {
   "cell_type": "code",
   "execution_count": 13,
   "id": "dbd8c292",
   "metadata": {},
   "outputs": [],
   "source": [
    "training_arguments = transformers.TrainingArguments(\n",
    "    per_device_train_batch_size=MICRO_BATCH_SIZE,\n",
    "    gradient_accumulation_steps=GRADIENT_ACCUMULATION_STEPS,\n",
    "    warmup_steps=100,\n",
    "    max_steps=TRAIN_STEPS,\n",
    "    learning_rate=LEARNING_RATE,\n",
    "    fp16=True,\n",
    "    logging_steps=10,\n",
    "    optim=\"adamw_torch\",\n",
    "    evaluation_strategy=\"steps\",\n",
    "    save_strategy=\"steps\",\n",
    "    eval_steps=50,\n",
    "    save_steps=50,\n",
    "    output_dir=OUTPUT_DIR,\n",
    "    save_total_limit=3,\n",
    "    load_best_model_at_end=True,\n",
    "    report_to=\"tensorboard\" \n",
    ")"
   ]
  },
  {
   "cell_type": "code",
   "execution_count": 14,
   "id": "c3334149",
   "metadata": {},
   "outputs": [],
   "source": [
    "data_collator = transformers.DataCollatorForSeq2Seq(\n",
    "    tokenizer, pad_to_multiple_of=8, return_tensors=\"pt\", padding=True\n",
    ")"
   ]
  },
  {
   "cell_type": "code",
   "execution_count": 15,
   "id": "3812988e",
   "metadata": {},
   "outputs": [
    {
     "name": "stderr",
     "output_type": "stream",
     "text": [
      "You're using a PreTrainedTokenizerFast tokenizer. Please note that with a fast tokenizer, using the `__call__` method is faster than using a method to encode the text followed by a call to the `pad` method to get a padded encoding.\n",
      "/home/proj_aki/anaconda3/envs/AI620/lib/python3.10/site-packages/bitsandbytes/autograd/_functions.py:318: UserWarning: MatMul8bitLt: inputs will be cast from torch.float32 to float16 during quantization\n",
      "  warnings.warn(f\"MatMul8bitLt: inputs will be cast from {A.dtype} to float16 during quantization\")\n"
     ]
    },
    {
     "data": {
      "text/html": [
       "\n",
       "    <div>\n",
       "      \n",
       "      <progress value='300' max='300' style='width:300px; height:20px; vertical-align: middle;'></progress>\n",
       "      [300/300 1:32:56, Epoch 2/3]\n",
       "    </div>\n",
       "    <table border=\"1\" class=\"dataframe\">\n",
       "  <thead>\n",
       " <tr style=\"text-align: left;\">\n",
       "      <th>Step</th>\n",
       "      <th>Training Loss</th>\n",
       "      <th>Validation Loss</th>\n",
       "    </tr>\n",
       "  </thead>\n",
       "  <tbody>\n",
       "    <tr>\n",
       "      <td>50</td>\n",
       "      <td>0.413000</td>\n",
       "      <td>0.274726</td>\n",
       "    </tr>\n",
       "    <tr>\n",
       "      <td>100</td>\n",
       "      <td>0.132500</td>\n",
       "      <td>0.129422</td>\n",
       "    </tr>\n",
       "    <tr>\n",
       "      <td>150</td>\n",
       "      <td>0.119200</td>\n",
       "      <td>0.117835</td>\n",
       "    </tr>\n",
       "    <tr>\n",
       "      <td>200</td>\n",
       "      <td>0.112400</td>\n",
       "      <td>0.113358</td>\n",
       "    </tr>\n",
       "    <tr>\n",
       "      <td>250</td>\n",
       "      <td>0.106300</td>\n",
       "      <td>0.110799</td>\n",
       "    </tr>\n",
       "    <tr>\n",
       "      <td>300</td>\n",
       "      <td>0.104600</td>\n",
       "      <td>0.109183</td>\n",
       "    </tr>\n",
       "  </tbody>\n",
       "</table><p>"
      ],
      "text/plain": [
       "<IPython.core.display.HTML object>"
      ]
     },
     "metadata": {},
     "output_type": "display_data"
    },
    {
     "name": "stderr",
     "output_type": "stream",
     "text": [
      "/home/proj_aki/anaconda3/envs/AI620/lib/python3.10/site-packages/bitsandbytes/autograd/_functions.py:318: UserWarning: MatMul8bitLt: inputs will be cast from torch.float32 to float16 during quantization\n",
      "  warnings.warn(f\"MatMul8bitLt: inputs will be cast from {A.dtype} to float16 during quantization\")\n",
      "/home/proj_aki/anaconda3/envs/AI620/lib/python3.10/site-packages/bitsandbytes/autograd/_functions.py:318: UserWarning: MatMul8bitLt: inputs will be cast from torch.float32 to float16 during quantization\n",
      "  warnings.warn(f\"MatMul8bitLt: inputs will be cast from {A.dtype} to float16 during quantization\")\n",
      "/home/proj_aki/anaconda3/envs/AI620/lib/python3.10/site-packages/bitsandbytes/autograd/_functions.py:318: UserWarning: MatMul8bitLt: inputs will be cast from torch.float32 to float16 during quantization\n",
      "  warnings.warn(f\"MatMul8bitLt: inputs will be cast from {A.dtype} to float16 during quantization\")\n",
      "/home/proj_aki/anaconda3/envs/AI620/lib/python3.10/site-packages/bitsandbytes/autograd/_functions.py:318: UserWarning: MatMul8bitLt: inputs will be cast from torch.float32 to float16 during quantization\n",
      "  warnings.warn(f\"MatMul8bitLt: inputs will be cast from {A.dtype} to float16 during quantization\")\n",
      "/home/proj_aki/anaconda3/envs/AI620/lib/python3.10/site-packages/bitsandbytes/autograd/_functions.py:318: UserWarning: MatMul8bitLt: inputs will be cast from torch.float32 to float16 during quantization\n",
      "  warnings.warn(f\"MatMul8bitLt: inputs will be cast from {A.dtype} to float16 during quantization\")\n",
      "There were missing keys in the checkpoint model loaded: ['base_model.model.base_model.model.gpt_neox.embed_in.weight', 'base_model.model.base_model.model.gpt_neox.layers.0.input_layernorm.weight', 'base_model.model.base_model.model.gpt_neox.layers.0.input_layernorm.bias', 'base_model.model.base_model.model.gpt_neox.layers.0.post_attention_layernorm.weight', 'base_model.model.base_model.model.gpt_neox.layers.0.post_attention_layernorm.bias', 'base_model.model.base_model.model.gpt_neox.layers.0.attention.bias', 'base_model.model.base_model.model.gpt_neox.layers.0.attention.masked_bias', 'base_model.model.base_model.model.gpt_neox.layers.0.attention.rotary_emb.inv_freq', 'base_model.model.base_model.model.gpt_neox.layers.0.attention.query_key_value.weight', 'base_model.model.base_model.model.gpt_neox.layers.0.attention.query_key_value.bias', 'base_model.model.base_model.model.gpt_neox.layers.0.attention.query_key_value.lora_A.default.weight', 'base_model.model.base_model.model.gpt_neox.layers.0.attention.query_key_value.lora_B.default.weight', 'base_model.model.base_model.model.gpt_neox.layers.0.attention.dense.weight', 'base_model.model.base_model.model.gpt_neox.layers.0.attention.dense.bias', 'base_model.model.base_model.model.gpt_neox.layers.0.mlp.dense_h_to_4h.weight', 'base_model.model.base_model.model.gpt_neox.layers.0.mlp.dense_h_to_4h.bias', 'base_model.model.base_model.model.gpt_neox.layers.0.mlp.dense_4h_to_h.weight', 'base_model.model.base_model.model.gpt_neox.layers.0.mlp.dense_4h_to_h.bias', 'base_model.model.base_model.model.gpt_neox.layers.1.input_layernorm.weight', 'base_model.model.base_model.model.gpt_neox.layers.1.input_layernorm.bias', 'base_model.model.base_model.model.gpt_neox.layers.1.post_attention_layernorm.weight', 'base_model.model.base_model.model.gpt_neox.layers.1.post_attention_layernorm.bias', 'base_model.model.base_model.model.gpt_neox.layers.1.attention.bias', 'base_model.model.base_model.model.gpt_neox.layers.1.attention.masked_bias', 'base_model.model.base_model.model.gpt_neox.layers.1.attention.rotary_emb.inv_freq', 'base_model.model.base_model.model.gpt_neox.layers.1.attention.query_key_value.weight', 'base_model.model.base_model.model.gpt_neox.layers.1.attention.query_key_value.bias', 'base_model.model.base_model.model.gpt_neox.layers.1.attention.query_key_value.lora_A.default.weight', 'base_model.model.base_model.model.gpt_neox.layers.1.attention.query_key_value.lora_B.default.weight', 'base_model.model.base_model.model.gpt_neox.layers.1.attention.dense.weight', 'base_model.model.base_model.model.gpt_neox.layers.1.attention.dense.bias', 'base_model.model.base_model.model.gpt_neox.layers.1.mlp.dense_h_to_4h.weight', 'base_model.model.base_model.model.gpt_neox.layers.1.mlp.dense_h_to_4h.bias', 'base_model.model.base_model.model.gpt_neox.layers.1.mlp.dense_4h_to_h.weight', 'base_model.model.base_model.model.gpt_neox.layers.1.mlp.dense_4h_to_h.bias', 'base_model.model.base_model.model.gpt_neox.layers.2.input_layernorm.weight', 'base_model.model.base_model.model.gpt_neox.layers.2.input_layernorm.bias', 'base_model.model.base_model.model.gpt_neox.layers.2.post_attention_layernorm.weight', 'base_model.model.base_model.model.gpt_neox.layers.2.post_attention_layernorm.bias', 'base_model.model.base_model.model.gpt_neox.layers.2.attention.bias', 'base_model.model.base_model.model.gpt_neox.layers.2.attention.masked_bias', 'base_model.model.base_model.model.gpt_neox.layers.2.attention.rotary_emb.inv_freq', 'base_model.model.base_model.model.gpt_neox.layers.2.attention.query_key_value.weight', 'base_model.model.base_model.model.gpt_neox.layers.2.attention.query_key_value.bias', 'base_model.model.base_model.model.gpt_neox.layers.2.attention.query_key_value.lora_A.default.weight', 'base_model.model.base_model.model.gpt_neox.layers.2.attention.query_key_value.lora_B.default.weight', 'base_model.model.base_model.model.gpt_neox.layers.2.attention.dense.weight', 'base_model.model.base_model.model.gpt_neox.layers.2.attention.dense.bias', 'base_model.model.base_model.model.gpt_neox.layers.2.mlp.dense_h_to_4h.weight', 'base_model.model.base_model.model.gpt_neox.layers.2.mlp.dense_h_to_4h.bias', 'base_model.model.base_model.model.gpt_neox.layers.2.mlp.dense_4h_to_h.weight', 'base_model.model.base_model.model.gpt_neox.layers.2.mlp.dense_4h_to_h.bias', 'base_model.model.base_model.model.gpt_neox.layers.3.input_layernorm.weight', 'base_model.model.base_model.model.gpt_neox.layers.3.input_layernorm.bias', 'base_model.model.base_model.model.gpt_neox.layers.3.post_attention_layernorm.weight', 'base_model.model.base_model.model.gpt_neox.layers.3.post_attention_layernorm.bias', 'base_model.model.base_model.model.gpt_neox.layers.3.attention.bias', 'base_model.model.base_model.model.gpt_neox.layers.3.attention.masked_bias', 'base_model.model.base_model.model.gpt_neox.layers.3.attention.rotary_emb.inv_freq', 'base_model.model.base_model.model.gpt_neox.layers.3.attention.query_key_value.weight', 'base_model.model.base_model.model.gpt_neox.layers.3.attention.query_key_value.bias', 'base_model.model.base_model.model.gpt_neox.layers.3.attention.query_key_value.lora_A.default.weight', 'base_model.model.base_model.model.gpt_neox.layers.3.attention.query_key_value.lora_B.default.weight', 'base_model.model.base_model.model.gpt_neox.layers.3.attention.dense.weight', 'base_model.model.base_model.model.gpt_neox.layers.3.attention.dense.bias', 'base_model.model.base_model.model.gpt_neox.layers.3.mlp.dense_h_to_4h.weight', 'base_model.model.base_model.model.gpt_neox.layers.3.mlp.dense_h_to_4h.bias', 'base_model.model.base_model.model.gpt_neox.layers.3.mlp.dense_4h_to_h.weight', 'base_model.model.base_model.model.gpt_neox.layers.3.mlp.dense_4h_to_h.bias', 'base_model.model.base_model.model.gpt_neox.layers.4.input_layernorm.weight', 'base_model.model.base_model.model.gpt_neox.layers.4.input_layernorm.bias', 'base_model.model.base_model.model.gpt_neox.layers.4.post_attention_layernorm.weight', 'base_model.model.base_model.model.gpt_neox.layers.4.post_attention_layernorm.bias', 'base_model.model.base_model.model.gpt_neox.layers.4.attention.bias', 'base_model.model.base_model.model.gpt_neox.layers.4.attention.masked_bias', 'base_model.model.base_model.model.gpt_neox.layers.4.attention.rotary_emb.inv_freq', 'base_model.model.base_model.model.gpt_neox.layers.4.attention.query_key_value.weight', 'base_model.model.base_model.model.gpt_neox.layers.4.attention.query_key_value.bias', 'base_model.model.base_model.model.gpt_neox.layers.4.attention.query_key_value.lora_A.default.weight', 'base_model.model.base_model.model.gpt_neox.layers.4.attention.query_key_value.lora_B.default.weight', 'base_model.model.base_model.model.gpt_neox.layers.4.attention.dense.weight', 'base_model.model.base_model.model.gpt_neox.layers.4.attention.dense.bias', 'base_model.model.base_model.model.gpt_neox.layers.4.mlp.dense_h_to_4h.weight', 'base_model.model.base_model.model.gpt_neox.layers.4.mlp.dense_h_to_4h.bias', 'base_model.model.base_model.model.gpt_neox.layers.4.mlp.dense_4h_to_h.weight', 'base_model.model.base_model.model.gpt_neox.layers.4.mlp.dense_4h_to_h.bias', 'base_model.model.base_model.model.gpt_neox.layers.5.input_layernorm.weight', 'base_model.model.base_model.model.gpt_neox.layers.5.input_layernorm.bias', 'base_model.model.base_model.model.gpt_neox.layers.5.post_attention_layernorm.weight', 'base_model.model.base_model.model.gpt_neox.layers.5.post_attention_layernorm.bias', 'base_model.model.base_model.model.gpt_neox.layers.5.attention.bias', 'base_model.model.base_model.model.gpt_neox.layers.5.attention.masked_bias', 'base_model.model.base_model.model.gpt_neox.layers.5.attention.rotary_emb.inv_freq', 'base_model.model.base_model.model.gpt_neox.layers.5.attention.query_key_value.weight', 'base_model.model.base_model.model.gpt_neox.layers.5.attention.query_key_value.bias', 'base_model.model.base_model.model.gpt_neox.layers.5.attention.query_key_value.lora_A.default.weight', 'base_model.model.base_model.model.gpt_neox.layers.5.attention.query_key_value.lora_B.default.weight', 'base_model.model.base_model.model.gpt_neox.layers.5.attention.dense.weight', 'base_model.model.base_model.model.gpt_neox.layers.5.attention.dense.bias', 'base_model.model.base_model.model.gpt_neox.layers.5.mlp.dense_h_to_4h.weight', 'base_model.model.base_model.model.gpt_neox.layers.5.mlp.dense_h_to_4h.bias', 'base_model.model.base_model.model.gpt_neox.layers.5.mlp.dense_4h_to_h.weight', 'base_model.model.base_model.model.gpt_neox.layers.5.mlp.dense_4h_to_h.bias', 'base_model.model.base_model.model.gpt_neox.layers.6.input_layernorm.weight', 'base_model.model.base_model.model.gpt_neox.layers.6.input_layernorm.bias', 'base_model.model.base_model.model.gpt_neox.layers.6.post_attention_layernorm.weight', 'base_model.model.base_model.model.gpt_neox.layers.6.post_attention_layernorm.bias', 'base_model.model.base_model.model.gpt_neox.layers.6.attention.bias', 'base_model.model.base_model.model.gpt_neox.layers.6.attention.masked_bias', 'base_model.model.base_model.model.gpt_neox.layers.6.attention.rotary_emb.inv_freq', 'base_model.model.base_model.model.gpt_neox.layers.6.attention.query_key_value.weight', 'base_model.model.base_model.model.gpt_neox.layers.6.attention.query_key_value.bias', 'base_model.model.base_model.model.gpt_neox.layers.6.attention.query_key_value.lora_A.default.weight', 'base_model.model.base_model.model.gpt_neox.layers.6.attention.query_key_value.lora_B.default.weight', 'base_model.model.base_model.model.gpt_neox.layers.6.attention.dense.weight', 'base_model.model.base_model.model.gpt_neox.layers.6.attention.dense.bias', 'base_model.model.base_model.model.gpt_neox.layers.6.mlp.dense_h_to_4h.weight', 'base_model.model.base_model.model.gpt_neox.layers.6.mlp.dense_h_to_4h.bias', 'base_model.model.base_model.model.gpt_neox.layers.6.mlp.dense_4h_to_h.weight', 'base_model.model.base_model.model.gpt_neox.layers.6.mlp.dense_4h_to_h.bias', 'base_model.model.base_model.model.gpt_neox.layers.7.input_layernorm.weight', 'base_model.model.base_model.model.gpt_neox.layers.7.input_layernorm.bias', 'base_model.model.base_model.model.gpt_neox.layers.7.post_attention_layernorm.weight', 'base_model.model.base_model.model.gpt_neox.layers.7.post_attention_layernorm.bias', 'base_model.model.base_model.model.gpt_neox.layers.7.attention.bias', 'base_model.model.base_model.model.gpt_neox.layers.7.attention.masked_bias', 'base_model.model.base_model.model.gpt_neox.layers.7.attention.rotary_emb.inv_freq', 'base_model.model.base_model.model.gpt_neox.layers.7.attention.query_key_value.weight', 'base_model.model.base_model.model.gpt_neox.layers.7.attention.query_key_value.bias', 'base_model.model.base_model.model.gpt_neox.layers.7.attention.query_key_value.lora_A.default.weight', 'base_model.model.base_model.model.gpt_neox.layers.7.attention.query_key_value.lora_B.default.weight', 'base_model.model.base_model.model.gpt_neox.layers.7.attention.dense.weight', 'base_model.model.base_model.model.gpt_neox.layers.7.attention.dense.bias', 'base_model.model.base_model.model.gpt_neox.layers.7.mlp.dense_h_to_4h.weight', 'base_model.model.base_model.model.gpt_neox.layers.7.mlp.dense_h_to_4h.bias', 'base_model.model.base_model.model.gpt_neox.layers.7.mlp.dense_4h_to_h.weight', 'base_model.model.base_model.model.gpt_neox.layers.7.mlp.dense_4h_to_h.bias', 'base_model.model.base_model.model.gpt_neox.layers.8.input_layernorm.weight', 'base_model.model.base_model.model.gpt_neox.layers.8.input_layernorm.bias', 'base_model.model.base_model.model.gpt_neox.layers.8.post_attention_layernorm.weight', 'base_model.model.base_model.model.gpt_neox.layers.8.post_attention_layernorm.bias', 'base_model.model.base_model.model.gpt_neox.layers.8.attention.bias', 'base_model.model.base_model.model.gpt_neox.layers.8.attention.masked_bias', 'base_model.model.base_model.model.gpt_neox.layers.8.attention.rotary_emb.inv_freq', 'base_model.model.base_model.model.gpt_neox.layers.8.attention.query_key_value.weight', 'base_model.model.base_model.model.gpt_neox.layers.8.attention.query_key_value.bias', 'base_model.model.base_model.model.gpt_neox.layers.8.attention.query_key_value.lora_A.default.weight', 'base_model.model.base_model.model.gpt_neox.layers.8.attention.query_key_value.lora_B.default.weight', 'base_model.model.base_model.model.gpt_neox.layers.8.attention.dense.weight', 'base_model.model.base_model.model.gpt_neox.layers.8.attention.dense.bias', 'base_model.model.base_model.model.gpt_neox.layers.8.mlp.dense_h_to_4h.weight', 'base_model.model.base_model.model.gpt_neox.layers.8.mlp.dense_h_to_4h.bias', 'base_model.model.base_model.model.gpt_neox.layers.8.mlp.dense_4h_to_h.weight', 'base_model.model.base_model.model.gpt_neox.layers.8.mlp.dense_4h_to_h.bias', 'base_model.model.base_model.model.gpt_neox.layers.9.input_layernorm.weight', 'base_model.model.base_model.model.gpt_neox.layers.9.input_layernorm.bias', 'base_model.model.base_model.model.gpt_neox.layers.9.post_attention_layernorm.weight', 'base_model.model.base_model.model.gpt_neox.layers.9.post_attention_layernorm.bias', 'base_model.model.base_model.model.gpt_neox.layers.9.attention.bias', 'base_model.model.base_model.model.gpt_neox.layers.9.attention.masked_bias', 'base_model.model.base_model.model.gpt_neox.layers.9.attention.rotary_emb.inv_freq', 'base_model.model.base_model.model.gpt_neox.layers.9.attention.query_key_value.weight', 'base_model.model.base_model.model.gpt_neox.layers.9.attention.query_key_value.bias', 'base_model.model.base_model.model.gpt_neox.layers.9.attention.query_key_value.lora_A.default.weight', 'base_model.model.base_model.model.gpt_neox.layers.9.attention.query_key_value.lora_B.default.weight', 'base_model.model.base_model.model.gpt_neox.layers.9.attention.dense.weight', 'base_model.model.base_model.model.gpt_neox.layers.9.attention.dense.bias', 'base_model.model.base_model.model.gpt_neox.layers.9.mlp.dense_h_to_4h.weight', 'base_model.model.base_model.model.gpt_neox.layers.9.mlp.dense_h_to_4h.bias', 'base_model.model.base_model.model.gpt_neox.layers.9.mlp.dense_4h_to_h.weight', 'base_model.model.base_model.model.gpt_neox.layers.9.mlp.dense_4h_to_h.bias', 'base_model.model.base_model.model.gpt_neox.layers.10.input_layernorm.weight', 'base_model.model.base_model.model.gpt_neox.layers.10.input_layernorm.bias', 'base_model.model.base_model.model.gpt_neox.layers.10.post_attention_layernorm.weight', 'base_model.model.base_model.model.gpt_neox.layers.10.post_attention_layernorm.bias', 'base_model.model.base_model.model.gpt_neox.layers.10.attention.bias', 'base_model.model.base_model.model.gpt_neox.layers.10.attention.masked_bias', 'base_model.model.base_model.model.gpt_neox.layers.10.attention.rotary_emb.inv_freq', 'base_model.model.base_model.model.gpt_neox.layers.10.attention.query_key_value.weight', 'base_model.model.base_model.model.gpt_neox.layers.10.attention.query_key_value.bias', 'base_model.model.base_model.model.gpt_neox.layers.10.attention.query_key_value.lora_A.default.weight', 'base_model.model.base_model.model.gpt_neox.layers.10.attention.query_key_value.lora_B.default.weight', 'base_model.model.base_model.model.gpt_neox.layers.10.attention.dense.weight', 'base_model.model.base_model.model.gpt_neox.layers.10.attention.dense.bias', 'base_model.model.base_model.model.gpt_neox.layers.10.mlp.dense_h_to_4h.weight', 'base_model.model.base_model.model.gpt_neox.layers.10.mlp.dense_h_to_4h.bias', 'base_model.model.base_model.model.gpt_neox.layers.10.mlp.dense_4h_to_h.weight', 'base_model.model.base_model.model.gpt_neox.layers.10.mlp.dense_4h_to_h.bias', 'base_model.model.base_model.model.gpt_neox.layers.11.input_layernorm.weight', 'base_model.model.base_model.model.gpt_neox.layers.11.input_layernorm.bias', 'base_model.model.base_model.model.gpt_neox.layers.11.post_attention_layernorm.weight', 'base_model.model.base_model.model.gpt_neox.layers.11.post_attention_layernorm.bias', 'base_model.model.base_model.model.gpt_neox.layers.11.attention.bias', 'base_model.model.base_model.model.gpt_neox.layers.11.attention.masked_bias', 'base_model.model.base_model.model.gpt_neox.layers.11.attention.rotary_emb.inv_freq', 'base_model.model.base_model.model.gpt_neox.layers.11.attention.query_key_value.weight', 'base_model.model.base_model.model.gpt_neox.layers.11.attention.query_key_value.bias', 'base_model.model.base_model.model.gpt_neox.layers.11.attention.query_key_value.lora_A.default.weight', 'base_model.model.base_model.model.gpt_neox.layers.11.attention.query_key_value.lora_B.default.weight', 'base_model.model.base_model.model.gpt_neox.layers.11.attention.dense.weight', 'base_model.model.base_model.model.gpt_neox.layers.11.attention.dense.bias', 'base_model.model.base_model.model.gpt_neox.layers.11.mlp.dense_h_to_4h.weight', 'base_model.model.base_model.model.gpt_neox.layers.11.mlp.dense_h_to_4h.bias', 'base_model.model.base_model.model.gpt_neox.layers.11.mlp.dense_4h_to_h.weight', 'base_model.model.base_model.model.gpt_neox.layers.11.mlp.dense_4h_to_h.bias', 'base_model.model.base_model.model.gpt_neox.layers.12.input_layernorm.weight', 'base_model.model.base_model.model.gpt_neox.layers.12.input_layernorm.bias', 'base_model.model.base_model.model.gpt_neox.layers.12.post_attention_layernorm.weight', 'base_model.model.base_model.model.gpt_neox.layers.12.post_attention_layernorm.bias', 'base_model.model.base_model.model.gpt_neox.layers.12.attention.bias', 'base_model.model.base_model.model.gpt_neox.layers.12.attention.masked_bias', 'base_model.model.base_model.model.gpt_neox.layers.12.attention.rotary_emb.inv_freq', 'base_model.model.base_model.model.gpt_neox.layers.12.attention.query_key_value.weight', 'base_model.model.base_model.model.gpt_neox.layers.12.attention.query_key_value.bias', 'base_model.model.base_model.model.gpt_neox.layers.12.attention.query_key_value.lora_A.default.weight', 'base_model.model.base_model.model.gpt_neox.layers.12.attention.query_key_value.lora_B.default.weight', 'base_model.model.base_model.model.gpt_neox.layers.12.attention.dense.weight', 'base_model.model.base_model.model.gpt_neox.layers.12.attention.dense.bias', 'base_model.model.base_model.model.gpt_neox.layers.12.mlp.dense_h_to_4h.weight', 'base_model.model.base_model.model.gpt_neox.layers.12.mlp.dense_h_to_4h.bias', 'base_model.model.base_model.model.gpt_neox.layers.12.mlp.dense_4h_to_h.weight', 'base_model.model.base_model.model.gpt_neox.layers.12.mlp.dense_4h_to_h.bias', 'base_model.model.base_model.model.gpt_neox.layers.13.input_layernorm.weight', 'base_model.model.base_model.model.gpt_neox.layers.13.input_layernorm.bias', 'base_model.model.base_model.model.gpt_neox.layers.13.post_attention_layernorm.weight', 'base_model.model.base_model.model.gpt_neox.layers.13.post_attention_layernorm.bias', 'base_model.model.base_model.model.gpt_neox.layers.13.attention.bias', 'base_model.model.base_model.model.gpt_neox.layers.13.attention.masked_bias', 'base_model.model.base_model.model.gpt_neox.layers.13.attention.rotary_emb.inv_freq', 'base_model.model.base_model.model.gpt_neox.layers.13.attention.query_key_value.weight', 'base_model.model.base_model.model.gpt_neox.layers.13.attention.query_key_value.bias', 'base_model.model.base_model.model.gpt_neox.layers.13.attention.query_key_value.lora_A.default.weight', 'base_model.model.base_model.model.gpt_neox.layers.13.attention.query_key_value.lora_B.default.weight', 'base_model.model.base_model.model.gpt_neox.layers.13.attention.dense.weight', 'base_model.model.base_model.model.gpt_neox.layers.13.attention.dense.bias', 'base_model.model.base_model.model.gpt_neox.layers.13.mlp.dense_h_to_4h.weight', 'base_model.model.base_model.model.gpt_neox.layers.13.mlp.dense_h_to_4h.bias', 'base_model.model.base_model.model.gpt_neox.layers.13.mlp.dense_4h_to_h.weight', 'base_model.model.base_model.model.gpt_neox.layers.13.mlp.dense_4h_to_h.bias', 'base_model.model.base_model.model.gpt_neox.layers.14.input_layernorm.weight', 'base_model.model.base_model.model.gpt_neox.layers.14.input_layernorm.bias', 'base_model.model.base_model.model.gpt_neox.layers.14.post_attention_layernorm.weight', 'base_model.model.base_model.model.gpt_neox.layers.14.post_attention_layernorm.bias', 'base_model.model.base_model.model.gpt_neox.layers.14.attention.bias', 'base_model.model.base_model.model.gpt_neox.layers.14.attention.masked_bias', 'base_model.model.base_model.model.gpt_neox.layers.14.attention.rotary_emb.inv_freq', 'base_model.model.base_model.model.gpt_neox.layers.14.attention.query_key_value.weight', 'base_model.model.base_model.model.gpt_neox.layers.14.attention.query_key_value.bias', 'base_model.model.base_model.model.gpt_neox.layers.14.attention.query_key_value.lora_A.default.weight', 'base_model.model.base_model.model.gpt_neox.layers.14.attention.query_key_value.lora_B.default.weight', 'base_model.model.base_model.model.gpt_neox.layers.14.attention.dense.weight', 'base_model.model.base_model.model.gpt_neox.layers.14.attention.dense.bias', 'base_model.model.base_model.model.gpt_neox.layers.14.mlp.dense_h_to_4h.weight', 'base_model.model.base_model.model.gpt_neox.layers.14.mlp.dense_h_to_4h.bias', 'base_model.model.base_model.model.gpt_neox.layers.14.mlp.dense_4h_to_h.weight', 'base_model.model.base_model.model.gpt_neox.layers.14.mlp.dense_4h_to_h.bias', 'base_model.model.base_model.model.gpt_neox.layers.15.input_layernorm.weight', 'base_model.model.base_model.model.gpt_neox.layers.15.input_layernorm.bias', 'base_model.model.base_model.model.gpt_neox.layers.15.post_attention_layernorm.weight', 'base_model.model.base_model.model.gpt_neox.layers.15.post_attention_layernorm.bias', 'base_model.model.base_model.model.gpt_neox.layers.15.attention.bias', 'base_model.model.base_model.model.gpt_neox.layers.15.attention.masked_bias', 'base_model.model.base_model.model.gpt_neox.layers.15.attention.rotary_emb.inv_freq', 'base_model.model.base_model.model.gpt_neox.layers.15.attention.query_key_value.weight', 'base_model.model.base_model.model.gpt_neox.layers.15.attention.query_key_value.bias', 'base_model.model.base_model.model.gpt_neox.layers.15.attention.query_key_value.lora_A.default.weight', 'base_model.model.base_model.model.gpt_neox.layers.15.attention.query_key_value.lora_B.default.weight', 'base_model.model.base_model.model.gpt_neox.layers.15.attention.dense.weight', 'base_model.model.base_model.model.gpt_neox.layers.15.attention.dense.bias', 'base_model.model.base_model.model.gpt_neox.layers.15.mlp.dense_h_to_4h.weight', 'base_model.model.base_model.model.gpt_neox.layers.15.mlp.dense_h_to_4h.bias', 'base_model.model.base_model.model.gpt_neox.layers.15.mlp.dense_4h_to_h.weight', 'base_model.model.base_model.model.gpt_neox.layers.15.mlp.dense_4h_to_h.bias', 'base_model.model.base_model.model.gpt_neox.layers.16.input_layernorm.weight', 'base_model.model.base_model.model.gpt_neox.layers.16.input_layernorm.bias', 'base_model.model.base_model.model.gpt_neox.layers.16.post_attention_layernorm.weight', 'base_model.model.base_model.model.gpt_neox.layers.16.post_attention_layernorm.bias', 'base_model.model.base_model.model.gpt_neox.layers.16.attention.bias', 'base_model.model.base_model.model.gpt_neox.layers.16.attention.masked_bias', 'base_model.model.base_model.model.gpt_neox.layers.16.attention.rotary_emb.inv_freq', 'base_model.model.base_model.model.gpt_neox.layers.16.attention.query_key_value.weight', 'base_model.model.base_model.model.gpt_neox.layers.16.attention.query_key_value.bias', 'base_model.model.base_model.model.gpt_neox.layers.16.attention.query_key_value.lora_A.default.weight', 'base_model.model.base_model.model.gpt_neox.layers.16.attention.query_key_value.lora_B.default.weight', 'base_model.model.base_model.model.gpt_neox.layers.16.attention.dense.weight', 'base_model.model.base_model.model.gpt_neox.layers.16.attention.dense.bias', 'base_model.model.base_model.model.gpt_neox.layers.16.mlp.dense_h_to_4h.weight', 'base_model.model.base_model.model.gpt_neox.layers.16.mlp.dense_h_to_4h.bias', 'base_model.model.base_model.model.gpt_neox.layers.16.mlp.dense_4h_to_h.weight', 'base_model.model.base_model.model.gpt_neox.layers.16.mlp.dense_4h_to_h.bias', 'base_model.model.base_model.model.gpt_neox.layers.17.input_layernorm.weight', 'base_model.model.base_model.model.gpt_neox.layers.17.input_layernorm.bias', 'base_model.model.base_model.model.gpt_neox.layers.17.post_attention_layernorm.weight', 'base_model.model.base_model.model.gpt_neox.layers.17.post_attention_layernorm.bias', 'base_model.model.base_model.model.gpt_neox.layers.17.attention.bias', 'base_model.model.base_model.model.gpt_neox.layers.17.attention.masked_bias', 'base_model.model.base_model.model.gpt_neox.layers.17.attention.rotary_emb.inv_freq', 'base_model.model.base_model.model.gpt_neox.layers.17.attention.query_key_value.weight', 'base_model.model.base_model.model.gpt_neox.layers.17.attention.query_key_value.bias', 'base_model.model.base_model.model.gpt_neox.layers.17.attention.query_key_value.lora_A.default.weight', 'base_model.model.base_model.model.gpt_neox.layers.17.attention.query_key_value.lora_B.default.weight', 'base_model.model.base_model.model.gpt_neox.layers.17.attention.dense.weight', 'base_model.model.base_model.model.gpt_neox.layers.17.attention.dense.bias', 'base_model.model.base_model.model.gpt_neox.layers.17.mlp.dense_h_to_4h.weight', 'base_model.model.base_model.model.gpt_neox.layers.17.mlp.dense_h_to_4h.bias', 'base_model.model.base_model.model.gpt_neox.layers.17.mlp.dense_4h_to_h.weight', 'base_model.model.base_model.model.gpt_neox.layers.17.mlp.dense_4h_to_h.bias', 'base_model.model.base_model.model.gpt_neox.layers.18.input_layernorm.weight', 'base_model.model.base_model.model.gpt_neox.layers.18.input_layernorm.bias', 'base_model.model.base_model.model.gpt_neox.layers.18.post_attention_layernorm.weight', 'base_model.model.base_model.model.gpt_neox.layers.18.post_attention_layernorm.bias', 'base_model.model.base_model.model.gpt_neox.layers.18.attention.bias', 'base_model.model.base_model.model.gpt_neox.layers.18.attention.masked_bias', 'base_model.model.base_model.model.gpt_neox.layers.18.attention.rotary_emb.inv_freq', 'base_model.model.base_model.model.gpt_neox.layers.18.attention.query_key_value.weight', 'base_model.model.base_model.model.gpt_neox.layers.18.attention.query_key_value.bias', 'base_model.model.base_model.model.gpt_neox.layers.18.attention.query_key_value.lora_A.default.weight', 'base_model.model.base_model.model.gpt_neox.layers.18.attention.query_key_value.lora_B.default.weight', 'base_model.model.base_model.model.gpt_neox.layers.18.attention.dense.weight', 'base_model.model.base_model.model.gpt_neox.layers.18.attention.dense.bias', 'base_model.model.base_model.model.gpt_neox.layers.18.mlp.dense_h_to_4h.weight', 'base_model.model.base_model.model.gpt_neox.layers.18.mlp.dense_h_to_4h.bias', 'base_model.model.base_model.model.gpt_neox.layers.18.mlp.dense_4h_to_h.weight', 'base_model.model.base_model.model.gpt_neox.layers.18.mlp.dense_4h_to_h.bias', 'base_model.model.base_model.model.gpt_neox.layers.19.input_layernorm.weight', 'base_model.model.base_model.model.gpt_neox.layers.19.input_layernorm.bias', 'base_model.model.base_model.model.gpt_neox.layers.19.post_attention_layernorm.weight', 'base_model.model.base_model.model.gpt_neox.layers.19.post_attention_layernorm.bias', 'base_model.model.base_model.model.gpt_neox.layers.19.attention.bias', 'base_model.model.base_model.model.gpt_neox.layers.19.attention.masked_bias', 'base_model.model.base_model.model.gpt_neox.layers.19.attention.rotary_emb.inv_freq', 'base_model.model.base_model.model.gpt_neox.layers.19.attention.query_key_value.weight', 'base_model.model.base_model.model.gpt_neox.layers.19.attention.query_key_value.bias', 'base_model.model.base_model.model.gpt_neox.layers.19.attention.query_key_value.lora_A.default.weight', 'base_model.model.base_model.model.gpt_neox.layers.19.attention.query_key_value.lora_B.default.weight', 'base_model.model.base_model.model.gpt_neox.layers.19.attention.dense.weight', 'base_model.model.base_model.model.gpt_neox.layers.19.attention.dense.bias', 'base_model.model.base_model.model.gpt_neox.layers.19.mlp.dense_h_to_4h.weight', 'base_model.model.base_model.model.gpt_neox.layers.19.mlp.dense_h_to_4h.bias', 'base_model.model.base_model.model.gpt_neox.layers.19.mlp.dense_4h_to_h.weight', 'base_model.model.base_model.model.gpt_neox.layers.19.mlp.dense_4h_to_h.bias', 'base_model.model.base_model.model.gpt_neox.layers.20.input_layernorm.weight', 'base_model.model.base_model.model.gpt_neox.layers.20.input_layernorm.bias', 'base_model.model.base_model.model.gpt_neox.layers.20.post_attention_layernorm.weight', 'base_model.model.base_model.model.gpt_neox.layers.20.post_attention_layernorm.bias', 'base_model.model.base_model.model.gpt_neox.layers.20.attention.bias', 'base_model.model.base_model.model.gpt_neox.layers.20.attention.masked_bias', 'base_model.model.base_model.model.gpt_neox.layers.20.attention.rotary_emb.inv_freq', 'base_model.model.base_model.model.gpt_neox.layers.20.attention.query_key_value.weight', 'base_model.model.base_model.model.gpt_neox.layers.20.attention.query_key_value.bias', 'base_model.model.base_model.model.gpt_neox.layers.20.attention.query_key_value.lora_A.default.weight', 'base_model.model.base_model.model.gpt_neox.layers.20.attention.query_key_value.lora_B.default.weight', 'base_model.model.base_model.model.gpt_neox.layers.20.attention.dense.weight', 'base_model.model.base_model.model.gpt_neox.layers.20.attention.dense.bias', 'base_model.model.base_model.model.gpt_neox.layers.20.mlp.dense_h_to_4h.weight', 'base_model.model.base_model.model.gpt_neox.layers.20.mlp.dense_h_to_4h.bias', 'base_model.model.base_model.model.gpt_neox.layers.20.mlp.dense_4h_to_h.weight', 'base_model.model.base_model.model.gpt_neox.layers.20.mlp.dense_4h_to_h.bias', 'base_model.model.base_model.model.gpt_neox.layers.21.input_layernorm.weight', 'base_model.model.base_model.model.gpt_neox.layers.21.input_layernorm.bias', 'base_model.model.base_model.model.gpt_neox.layers.21.post_attention_layernorm.weight', 'base_model.model.base_model.model.gpt_neox.layers.21.post_attention_layernorm.bias', 'base_model.model.base_model.model.gpt_neox.layers.21.attention.bias', 'base_model.model.base_model.model.gpt_neox.layers.21.attention.masked_bias', 'base_model.model.base_model.model.gpt_neox.layers.21.attention.rotary_emb.inv_freq', 'base_model.model.base_model.model.gpt_neox.layers.21.attention.query_key_value.weight', 'base_model.model.base_model.model.gpt_neox.layers.21.attention.query_key_value.bias', 'base_model.model.base_model.model.gpt_neox.layers.21.attention.query_key_value.lora_A.default.weight', 'base_model.model.base_model.model.gpt_neox.layers.21.attention.query_key_value.lora_B.default.weight', 'base_model.model.base_model.model.gpt_neox.layers.21.attention.dense.weight', 'base_model.model.base_model.model.gpt_neox.layers.21.attention.dense.bias', 'base_model.model.base_model.model.gpt_neox.layers.21.mlp.dense_h_to_4h.weight', 'base_model.model.base_model.model.gpt_neox.layers.21.mlp.dense_h_to_4h.bias', 'base_model.model.base_model.model.gpt_neox.layers.21.mlp.dense_4h_to_h.weight', 'base_model.model.base_model.model.gpt_neox.layers.21.mlp.dense_4h_to_h.bias', 'base_model.model.base_model.model.gpt_neox.layers.22.input_layernorm.weight', 'base_model.model.base_model.model.gpt_neox.layers.22.input_layernorm.bias', 'base_model.model.base_model.model.gpt_neox.layers.22.post_attention_layernorm.weight', 'base_model.model.base_model.model.gpt_neox.layers.22.post_attention_layernorm.bias', 'base_model.model.base_model.model.gpt_neox.layers.22.attention.bias', 'base_model.model.base_model.model.gpt_neox.layers.22.attention.masked_bias', 'base_model.model.base_model.model.gpt_neox.layers.22.attention.rotary_emb.inv_freq', 'base_model.model.base_model.model.gpt_neox.layers.22.attention.query_key_value.weight', 'base_model.model.base_model.model.gpt_neox.layers.22.attention.query_key_value.bias', 'base_model.model.base_model.model.gpt_neox.layers.22.attention.query_key_value.lora_A.default.weight', 'base_model.model.base_model.model.gpt_neox.layers.22.attention.query_key_value.lora_B.default.weight', 'base_model.model.base_model.model.gpt_neox.layers.22.attention.dense.weight', 'base_model.model.base_model.model.gpt_neox.layers.22.attention.dense.bias', 'base_model.model.base_model.model.gpt_neox.layers.22.mlp.dense_h_to_4h.weight', 'base_model.model.base_model.model.gpt_neox.layers.22.mlp.dense_h_to_4h.bias', 'base_model.model.base_model.model.gpt_neox.layers.22.mlp.dense_4h_to_h.weight', 'base_model.model.base_model.model.gpt_neox.layers.22.mlp.dense_4h_to_h.bias', 'base_model.model.base_model.model.gpt_neox.layers.23.input_layernorm.weight', 'base_model.model.base_model.model.gpt_neox.layers.23.input_layernorm.bias', 'base_model.model.base_model.model.gpt_neox.layers.23.post_attention_layernorm.weight', 'base_model.model.base_model.model.gpt_neox.layers.23.post_attention_layernorm.bias', 'base_model.model.base_model.model.gpt_neox.layers.23.attention.bias', 'base_model.model.base_model.model.gpt_neox.layers.23.attention.masked_bias', 'base_model.model.base_model.model.gpt_neox.layers.23.attention.rotary_emb.inv_freq', 'base_model.model.base_model.model.gpt_neox.layers.23.attention.query_key_value.weight', 'base_model.model.base_model.model.gpt_neox.layers.23.attention.query_key_value.bias', 'base_model.model.base_model.model.gpt_neox.layers.23.attention.query_key_value.lora_A.default.weight', 'base_model.model.base_model.model.gpt_neox.layers.23.attention.query_key_value.lora_B.default.weight', 'base_model.model.base_model.model.gpt_neox.layers.23.attention.dense.weight', 'base_model.model.base_model.model.gpt_neox.layers.23.attention.dense.bias', 'base_model.model.base_model.model.gpt_neox.layers.23.mlp.dense_h_to_4h.weight', 'base_model.model.base_model.model.gpt_neox.layers.23.mlp.dense_h_to_4h.bias', 'base_model.model.base_model.model.gpt_neox.layers.23.mlp.dense_4h_to_h.weight', 'base_model.model.base_model.model.gpt_neox.layers.23.mlp.dense_4h_to_h.bias', 'base_model.model.base_model.model.gpt_neox.layers.24.input_layernorm.weight', 'base_model.model.base_model.model.gpt_neox.layers.24.input_layernorm.bias', 'base_model.model.base_model.model.gpt_neox.layers.24.post_attention_layernorm.weight', 'base_model.model.base_model.model.gpt_neox.layers.24.post_attention_layernorm.bias', 'base_model.model.base_model.model.gpt_neox.layers.24.attention.bias', 'base_model.model.base_model.model.gpt_neox.layers.24.attention.masked_bias', 'base_model.model.base_model.model.gpt_neox.layers.24.attention.rotary_emb.inv_freq', 'base_model.model.base_model.model.gpt_neox.layers.24.attention.query_key_value.weight', 'base_model.model.base_model.model.gpt_neox.layers.24.attention.query_key_value.bias', 'base_model.model.base_model.model.gpt_neox.layers.24.attention.query_key_value.lora_A.default.weight', 'base_model.model.base_model.model.gpt_neox.layers.24.attention.query_key_value.lora_B.default.weight', 'base_model.model.base_model.model.gpt_neox.layers.24.attention.dense.weight', 'base_model.model.base_model.model.gpt_neox.layers.24.attention.dense.bias', 'base_model.model.base_model.model.gpt_neox.layers.24.mlp.dense_h_to_4h.weight', 'base_model.model.base_model.model.gpt_neox.layers.24.mlp.dense_h_to_4h.bias', 'base_model.model.base_model.model.gpt_neox.layers.24.mlp.dense_4h_to_h.weight', 'base_model.model.base_model.model.gpt_neox.layers.24.mlp.dense_4h_to_h.bias', 'base_model.model.base_model.model.gpt_neox.layers.25.input_layernorm.weight', 'base_model.model.base_model.model.gpt_neox.layers.25.input_layernorm.bias', 'base_model.model.base_model.model.gpt_neox.layers.25.post_attention_layernorm.weight', 'base_model.model.base_model.model.gpt_neox.layers.25.post_attention_layernorm.bias', 'base_model.model.base_model.model.gpt_neox.layers.25.attention.bias', 'base_model.model.base_model.model.gpt_neox.layers.25.attention.masked_bias', 'base_model.model.base_model.model.gpt_neox.layers.25.attention.rotary_emb.inv_freq', 'base_model.model.base_model.model.gpt_neox.layers.25.attention.query_key_value.weight', 'base_model.model.base_model.model.gpt_neox.layers.25.attention.query_key_value.bias', 'base_model.model.base_model.model.gpt_neox.layers.25.attention.query_key_value.lora_A.default.weight', 'base_model.model.base_model.model.gpt_neox.layers.25.attention.query_key_value.lora_B.default.weight', 'base_model.model.base_model.model.gpt_neox.layers.25.attention.dense.weight', 'base_model.model.base_model.model.gpt_neox.layers.25.attention.dense.bias', 'base_model.model.base_model.model.gpt_neox.layers.25.mlp.dense_h_to_4h.weight', 'base_model.model.base_model.model.gpt_neox.layers.25.mlp.dense_h_to_4h.bias', 'base_model.model.base_model.model.gpt_neox.layers.25.mlp.dense_4h_to_h.weight', 'base_model.model.base_model.model.gpt_neox.layers.25.mlp.dense_4h_to_h.bias', 'base_model.model.base_model.model.gpt_neox.layers.26.input_layernorm.weight', 'base_model.model.base_model.model.gpt_neox.layers.26.input_layernorm.bias', 'base_model.model.base_model.model.gpt_neox.layers.26.post_attention_layernorm.weight', 'base_model.model.base_model.model.gpt_neox.layers.26.post_attention_layernorm.bias', 'base_model.model.base_model.model.gpt_neox.layers.26.attention.bias', 'base_model.model.base_model.model.gpt_neox.layers.26.attention.masked_bias', 'base_model.model.base_model.model.gpt_neox.layers.26.attention.rotary_emb.inv_freq', 'base_model.model.base_model.model.gpt_neox.layers.26.attention.query_key_value.weight', 'base_model.model.base_model.model.gpt_neox.layers.26.attention.query_key_value.bias', 'base_model.model.base_model.model.gpt_neox.layers.26.attention.query_key_value.lora_A.default.weight', 'base_model.model.base_model.model.gpt_neox.layers.26.attention.query_key_value.lora_B.default.weight', 'base_model.model.base_model.model.gpt_neox.layers.26.attention.dense.weight', 'base_model.model.base_model.model.gpt_neox.layers.26.attention.dense.bias', 'base_model.model.base_model.model.gpt_neox.layers.26.mlp.dense_h_to_4h.weight', 'base_model.model.base_model.model.gpt_neox.layers.26.mlp.dense_h_to_4h.bias', 'base_model.model.base_model.model.gpt_neox.layers.26.mlp.dense_4h_to_h.weight', 'base_model.model.base_model.model.gpt_neox.layers.26.mlp.dense_4h_to_h.bias', 'base_model.model.base_model.model.gpt_neox.layers.27.input_layernorm.weight', 'base_model.model.base_model.model.gpt_neox.layers.27.input_layernorm.bias', 'base_model.model.base_model.model.gpt_neox.layers.27.post_attention_layernorm.weight', 'base_model.model.base_model.model.gpt_neox.layers.27.post_attention_layernorm.bias', 'base_model.model.base_model.model.gpt_neox.layers.27.attention.bias', 'base_model.model.base_model.model.gpt_neox.layers.27.attention.masked_bias', 'base_model.model.base_model.model.gpt_neox.layers.27.attention.rotary_emb.inv_freq', 'base_model.model.base_model.model.gpt_neox.layers.27.attention.query_key_value.weight', 'base_model.model.base_model.model.gpt_neox.layers.27.attention.query_key_value.bias', 'base_model.model.base_model.model.gpt_neox.layers.27.attention.query_key_value.lora_A.default.weight', 'base_model.model.base_model.model.gpt_neox.layers.27.attention.query_key_value.lora_B.default.weight', 'base_model.model.base_model.model.gpt_neox.layers.27.attention.dense.weight', 'base_model.model.base_model.model.gpt_neox.layers.27.attention.dense.bias', 'base_model.model.base_model.model.gpt_neox.layers.27.mlp.dense_h_to_4h.weight', 'base_model.model.base_model.model.gpt_neox.layers.27.mlp.dense_h_to_4h.bias', 'base_model.model.base_model.model.gpt_neox.layers.27.mlp.dense_4h_to_h.weight', 'base_model.model.base_model.model.gpt_neox.layers.27.mlp.dense_4h_to_h.bias', 'base_model.model.base_model.model.gpt_neox.final_layer_norm.weight', 'base_model.model.base_model.model.gpt_neox.final_layer_norm.bias', 'base_model.model.base_model.model.embed_out.weight'].\n"
     ]
    },
    {
     "name": "stderr",
     "output_type": "stream",
     "text": [
      "There were unexpected keys in the checkpoint model loaded: ['base_model.model.base_model.model.gpt_neox.layers.0.attention.query_key_value.lora_A.weight', 'base_model.model.base_model.model.gpt_neox.layers.0.attention.query_key_value.lora_B.weight', 'base_model.model.base_model.model.gpt_neox.layers.1.attention.query_key_value.lora_A.weight', 'base_model.model.base_model.model.gpt_neox.layers.1.attention.query_key_value.lora_B.weight', 'base_model.model.base_model.model.gpt_neox.layers.2.attention.query_key_value.lora_A.weight', 'base_model.model.base_model.model.gpt_neox.layers.2.attention.query_key_value.lora_B.weight', 'base_model.model.base_model.model.gpt_neox.layers.3.attention.query_key_value.lora_A.weight', 'base_model.model.base_model.model.gpt_neox.layers.3.attention.query_key_value.lora_B.weight', 'base_model.model.base_model.model.gpt_neox.layers.4.attention.query_key_value.lora_A.weight', 'base_model.model.base_model.model.gpt_neox.layers.4.attention.query_key_value.lora_B.weight', 'base_model.model.base_model.model.gpt_neox.layers.5.attention.query_key_value.lora_A.weight', 'base_model.model.base_model.model.gpt_neox.layers.5.attention.query_key_value.lora_B.weight', 'base_model.model.base_model.model.gpt_neox.layers.6.attention.query_key_value.lora_A.weight', 'base_model.model.base_model.model.gpt_neox.layers.6.attention.query_key_value.lora_B.weight', 'base_model.model.base_model.model.gpt_neox.layers.7.attention.query_key_value.lora_A.weight', 'base_model.model.base_model.model.gpt_neox.layers.7.attention.query_key_value.lora_B.weight', 'base_model.model.base_model.model.gpt_neox.layers.8.attention.query_key_value.lora_A.weight', 'base_model.model.base_model.model.gpt_neox.layers.8.attention.query_key_value.lora_B.weight', 'base_model.model.base_model.model.gpt_neox.layers.9.attention.query_key_value.lora_A.weight', 'base_model.model.base_model.model.gpt_neox.layers.9.attention.query_key_value.lora_B.weight', 'base_model.model.base_model.model.gpt_neox.layers.10.attention.query_key_value.lora_A.weight', 'base_model.model.base_model.model.gpt_neox.layers.10.attention.query_key_value.lora_B.weight', 'base_model.model.base_model.model.gpt_neox.layers.11.attention.query_key_value.lora_A.weight', 'base_model.model.base_model.model.gpt_neox.layers.11.attention.query_key_value.lora_B.weight', 'base_model.model.base_model.model.gpt_neox.layers.12.attention.query_key_value.lora_A.weight', 'base_model.model.base_model.model.gpt_neox.layers.12.attention.query_key_value.lora_B.weight', 'base_model.model.base_model.model.gpt_neox.layers.13.attention.query_key_value.lora_A.weight', 'base_model.model.base_model.model.gpt_neox.layers.13.attention.query_key_value.lora_B.weight', 'base_model.model.base_model.model.gpt_neox.layers.14.attention.query_key_value.lora_A.weight', 'base_model.model.base_model.model.gpt_neox.layers.14.attention.query_key_value.lora_B.weight', 'base_model.model.base_model.model.gpt_neox.layers.15.attention.query_key_value.lora_A.weight', 'base_model.model.base_model.model.gpt_neox.layers.15.attention.query_key_value.lora_B.weight', 'base_model.model.base_model.model.gpt_neox.layers.16.attention.query_key_value.lora_A.weight', 'base_model.model.base_model.model.gpt_neox.layers.16.attention.query_key_value.lora_B.weight', 'base_model.model.base_model.model.gpt_neox.layers.17.attention.query_key_value.lora_A.weight', 'base_model.model.base_model.model.gpt_neox.layers.17.attention.query_key_value.lora_B.weight', 'base_model.model.base_model.model.gpt_neox.layers.18.attention.query_key_value.lora_A.weight', 'base_model.model.base_model.model.gpt_neox.layers.18.attention.query_key_value.lora_B.weight', 'base_model.model.base_model.model.gpt_neox.layers.19.attention.query_key_value.lora_A.weight', 'base_model.model.base_model.model.gpt_neox.layers.19.attention.query_key_value.lora_B.weight', 'base_model.model.base_model.model.gpt_neox.layers.20.attention.query_key_value.lora_A.weight', 'base_model.model.base_model.model.gpt_neox.layers.20.attention.query_key_value.lora_B.weight', 'base_model.model.base_model.model.gpt_neox.layers.21.attention.query_key_value.lora_A.weight', 'base_model.model.base_model.model.gpt_neox.layers.21.attention.query_key_value.lora_B.weight', 'base_model.model.base_model.model.gpt_neox.layers.22.attention.query_key_value.lora_A.weight', 'base_model.model.base_model.model.gpt_neox.layers.22.attention.query_key_value.lora_B.weight', 'base_model.model.base_model.model.gpt_neox.layers.23.attention.query_key_value.lora_A.weight', 'base_model.model.base_model.model.gpt_neox.layers.23.attention.query_key_value.lora_B.weight', 'base_model.model.base_model.model.gpt_neox.layers.24.attention.query_key_value.lora_A.weight', 'base_model.model.base_model.model.gpt_neox.layers.24.attention.query_key_value.lora_B.weight', 'base_model.model.base_model.model.gpt_neox.layers.25.attention.query_key_value.lora_A.weight', 'base_model.model.base_model.model.gpt_neox.layers.25.attention.query_key_value.lora_B.weight', 'base_model.model.base_model.model.gpt_neox.layers.26.attention.query_key_value.lora_A.weight', 'base_model.model.base_model.model.gpt_neox.layers.26.attention.query_key_value.lora_B.weight', 'base_model.model.base_model.model.gpt_neox.layers.27.attention.query_key_value.lora_A.weight', 'base_model.model.base_model.model.gpt_neox.layers.27.attention.query_key_value.lora_B.weight'].\n"
     ]
    }
   ],
   "source": [
    "trainer = transformers.Trainer(\n",
    "    model=model,\n",
    "    train_dataset=train_data,\n",
    "    eval_dataset=val_data,\n",
    "    args=training_arguments,\n",
    "    data_collator=data_collator\n",
    ")\n",
    "model.config.use_cache = False\n",
    "old_state_dict = model.state_dict\n",
    "model.state_dict = (\n",
    "    lambda self, *_, **__: get_peft_model_state_dict(\n",
    "        self, old_state_dict()\n",
    "    )\n",
    ").__get__(model, type(model))\n",
    "\n",
    "model = torch.compile(model)\n",
    "\n",
    "trainer.train()\n",
    "model.save_pretrained(OUTPUT_DIR)"
   ]
  },
  {
   "cell_type": "code",
   "execution_count": 16,
   "id": "ac7ab30d",
   "metadata": {},
   "outputs": [
    {
     "data": {
      "application/vnd.jupyter.widget-view+json": {
       "model_id": "fb599be109944c3f8cd814b9b009c0d5",
       "version_major": 2,
       "version_minor": 0
      },
      "text/plain": [
       "VBox(children=(HTML(value='<center> <img\\nsrc=https://huggingface.co/front/assets/huggingface_logo-noborder.sv…"
      ]
     },
     "metadata": {},
     "output_type": "display_data"
    }
   ],
   "source": [
    "from huggingface_hub import notebook_login\n",
    "\n",
    "notebook_login()"
   ]
  },
  {
   "cell_type": "code",
   "execution_count": 17,
   "id": "1595f500",
   "metadata": {},
   "outputs": [
    {
     "data": {
      "text/plain": [
       "CommitInfo(commit_url='https://huggingface.co/lizim/alpaca-ko-en-translation/commit/ced4a9fe5db69eb997460b20e9e8db48632b5c04', commit_message='Upload model', commit_description='', oid='ced4a9fe5db69eb997460b20e9e8db48632b5c04', pr_url=None, pr_revision=None, pr_num=None)"
      ]
     },
     "execution_count": 17,
     "metadata": {},
     "output_type": "execute_result"
    }
   ],
   "source": [
    "model.push_to_hub(\"lizim/alpaca-ko-en-translation\", use_auth_token=True)"
   ]
  },
  {
   "cell_type": "code",
   "execution_count": 18,
   "id": "aee66e51",
   "metadata": {
    "scrolled": true
   },
   "outputs": [
    {
     "name": "stdout",
     "output_type": "stream",
     "text": [
      "/home/proj_aki/AI620-final/alpaca-lora\n",
      "huggingface/tokenizers: The current process just got forked, after parallelism has already been used. Disabling parallelism to avoid deadlocks...\n",
      "To disable this warning, you can either:\n",
      "\t- Avoid using `tokenizers` before the fork if possible\n",
      "\t- Explicitly set the environment variable TOKENIZERS_PARALLELISM=(true | false)\n",
      "M\tgenerate.py\n",
      "HEAD is now at a48d947 把中文LoRA放在一起\n"
     ]
    }
   ],
   "source": [
    "#!git clone https://github.com/tloen/alpaca-lora.git\n",
    "%cd alpaca-lora\n",
    "!git checkout a48d947"
   ]
  },
  {
   "cell_type": "code",
   "execution_count": 19,
   "id": "42f75d96",
   "metadata": {},
   "outputs": [
    {
     "name": "stdout",
     "output_type": "stream",
     "text": [
      "huggingface/tokenizers: The current process just got forked, after parallelism has already been used. Disabling parallelism to avoid deadlocks...\n",
      "To disable this warning, you can either:\n",
      "\t- Avoid using `tokenizers` before the fork if possible\n",
      "\t- Explicitly set the environment variable TOKENIZERS_PARALLELISM=(true | false)\n",
      "\n",
      "===================================BUG REPORT===================================\n",
      "Welcome to bitsandbytes. For bug reports, please run\n",
      "\n",
      "python -m bitsandbytes\n",
      "\n",
      " and submit this information together with your error trace to: https://github.com/TimDettmers/bitsandbytes/issues\n",
      "================================================================================\n",
      "bin /home/proj_aki/anaconda3/envs/AI620/lib/python3.10/site-packages/bitsandbytes/libbitsandbytes_cuda117.so\n",
      "CUDA SETUP: CUDA runtime path found: /home/proj_aki/anaconda3/envs/AI620/lib/libcudart.so.11.0\n",
      "CUDA SETUP: Highest compute capability among GPUs detected: 7.5\n",
      "CUDA SETUP: Detected CUDA version 117\n",
      "CUDA SETUP: Loading binary /home/proj_aki/anaconda3/envs/AI620/lib/python3.10/site-packages/bitsandbytes/libbitsandbytes_cuda117.so...\n",
      "Loading checkpoint shards: 100%|██████████████████| 2/2 [00:09<00:00,  4.96s/it]\n",
      "/home/proj_aki/anaconda3/envs/AI620/lib/python3.10/site-packages/gradio/inputs.py:27: UserWarning: Usage of gradio.inputs is deprecated, and will not be supported in the future, please import your component from gradio.components\n",
      "  warnings.warn(\n",
      "/home/proj_aki/anaconda3/envs/AI620/lib/python3.10/site-packages/gradio/deprecation.py:40: UserWarning: `optional` parameter is deprecated, and it has no effect\n",
      "  warnings.warn(value)\n",
      "/home/proj_aki/anaconda3/envs/AI620/lib/python3.10/site-packages/gradio/deprecation.py:40: UserWarning: `numeric` parameter is deprecated, and it has no effect\n",
      "  warnings.warn(value)\n",
      "Running on local URL:  http://127.0.0.1:7860\n",
      "Running on public URL: https://c1f7a2231fa00bfbb6.gradio.live\n",
      "\n",
      "This share link expires in 72 hours. For free permanent hosting and GPU upgrades (NEW!), check out Spaces: https://huggingface.co/spaces\n",
      "^C\n",
      "Keyboard interruption in main thread... closing server.\n",
      "Killing tunnel 127.0.0.1:7860 <> https://c1f7a2231fa00bfbb6.gradio.live\n"
     ]
    }
   ],
   "source": [
    "!python generate.py \\\n",
    "    --load_8bit \\\n",
    "    --base_model 'beomi/KoAlpaca-Polyglot' \\\n",
    "    --lora_weights 'lizim/alpaca-ko-en-translation' \\\n",
    "    --share_gradio"
   ]
  },
  {
   "cell_type": "code",
   "execution_count": null,
   "id": "39dd8f95",
   "metadata": {},
   "outputs": [],
   "source": []
  }
 ],
 "metadata": {
  "kernelspec": {
   "display_name": "Python 3 (ipykernel)",
   "language": "python",
   "name": "python3"
  },
  "language_info": {
   "codemirror_mode": {
    "name": "ipython",
    "version": 3
   },
   "file_extension": ".py",
   "mimetype": "text/x-python",
   "name": "python",
   "nbconvert_exporter": "python",
   "pygments_lexer": "ipython3",
   "version": "3.10.11"
  }
 },
 "nbformat": 4,
 "nbformat_minor": 5
}
